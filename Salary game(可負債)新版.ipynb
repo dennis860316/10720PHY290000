{
 "cells": [
  {
   "cell_type": "code",
   "execution_count": 7,
   "metadata": {},
   "outputs": [
    {
     "name": "stdout",
     "output_type": "stream",
     "text": [
      "(array([ 17.,  84., 231., 481., 396., 447., 249.,  73.,  18.,   4.]), array([-150., -112.,  -74.,  -36.,    2.,   40.,   78.,  116.,  154.,\n",
      "        192.,  230.]), <a list of 10 Patch objects>)\n",
      "[-131.  -93.  -55.  -17.   21.   59.   97.  135.  173.  211.]\n",
      "[ 4.84106138e+02 -1.56152290e-02] [[ 1.02912642e+03 -2.22423951e-02]\n",
      " [-2.22423951e-02  1.43628744e-06]]\n"
     ]
    },
    {
     "data": {
      "image/png": "[encoded data removed]",
      "text/plain": [
       "<Figure size 432x288 with 1 Axes>"
      ]
     },
     "metadata": {
      "needs_background": "light"
     },
     "output_type": "display_data"
    }
   ],
   "source": [
    "import numpy as np\n",
    "import matplotlib.pyplot as plt \n",
    "\n",
    "#The number of students\n",
    "n = 2000\n",
    "\n",
    "#Every student has originally 20k money\n",
    "m = 20\n",
    "M = [20]*n\n",
    "\n",
    "#猜拳次數\n",
    "k = 50000\n",
    "\n",
    "#Winners can get 5k but losers have to pay 5k\n",
    "dM = np.random.randint(-1,2,size=k)*10\n",
    "\n",
    "\n",
    "#決定隨意兩人猜拳\n",
    "i = np.random.randint(0,n,size=(k,2))\n",
    "\n",
    "\n",
    "    \n",
    "for a,d in enumerate(dM):\n",
    "    if i[a,0] == i[a,1]:\n",
    "        pass\n",
    "    else :\n",
    "        M[i[a,0]] = M[i[a,0]] + d\n",
    "        M[i[a,1]] = M[i[a,1]] - d\n",
    "plt.hist(M , bins = 10)\n",
    "plt.xlabel('money')\n",
    "plt.ylabel('the number of students')\n",
    "\n",
    "\n",
    "\n",
    "a = plt.hist(M , bins = 10)\n",
    "print(a)\n",
    "dx = (a[1][1]-a[1][0])\n",
    "bin_center = np.array(a[1][0:-1])+dx/2\n",
    "print(bin_center)\n",
    "\n",
    "from scipy import optimize\n",
    "\n",
    "def test_func(x, amp, sigma) :\n",
    "    return amp* np.exp(-(x-m)**2/2*sigma**2)\n",
    "\n",
    "params, params_covariance = optimize.curve_fit(test_func,bin_center,a[0])\n",
    "print(params, params_covariance)\n",
    "#plt.hist(money,bins)\n",
    "plt.plot(bin_center, test_func(bin_center, params[0],params[1]), 'r*',label='Fitted function')\n",
    "\n",
    "\n",
    "\n",
    "plt.show()"
   ]
  },
  {
   "cell_type": "code",
   "execution_count": null,
   "metadata": {},
   "outputs": [],
   "source": []
  },
  {
   "cell_type": "code",
   "execution_count": null,
   "metadata": {},
   "outputs": [],
   "source": []
  },
  {
   "cell_type": "code",
   "execution_count": 5,
   "metadata": {},
   "outputs": [
    {
     "name": "stdout",
     "output_type": "stream",
     "text": [
      "<class 'int'>\n"
     ]
    }
   ],
   "source": []
  },
  {
   "cell_type": "code",
   "execution_count": null,
   "metadata": {},
   "outputs": [],
   "source": []
  }
 ],
 "metadata": {
  "kernelspec": {
   "display_name": "Python 3",
   "language": "python",
   "name": "python3"
  },
  "language_info": {
   "codemirror_mode": {
    "name": "ipython",
    "version": 3
   },
   "file_extension": ".py",
   "mimetype": "text/x-python",
   "name": "python",
   "nbconvert_exporter": "python",
   "pygments_lexer": "ipython3",
   "version": "3.7.1"
  }
 },
 "nbformat": 4,
 "nbformat_minor": 2
}
