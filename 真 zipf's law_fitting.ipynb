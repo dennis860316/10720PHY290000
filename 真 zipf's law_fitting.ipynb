{
 "cells": [
  {
   "cell_type": "code",
   "execution_count": 2,
   "metadata": {},
   "outputs": [
    {
     "name": "stdout",
     "output_type": "stream",
     "text": [
      "6331\n",
      "[ 1.73861759e+03 -8.07615021e-01] [[ 1.53536987e+01 -2.84438559e-03]\n",
      " [-2.84438559e-03  1.46570912e-06]]\n"
     ]
    },
    {
     "data": {
      "image/png": "[encoded data removed]",
      "text/plain": [
       "<Figure size 432x288 with 1 Axes>"
      ]
     },
     "metadata": {
      "needs_background": "light"
     },
     "output_type": "display_data"
    }
   ],
   "source": [
    "import matplotlib.pyplot as plt\n",
    "import numpy as np\n",
    "import string\n",
    "fp = open('Alice.txt','r',encoding='UTF-8')\n",
    "line = fp.readline()\n",
    "dic={}\n",
    "while line :\n",
    "    s = line.split()\n",
    "    for x in s:\n",
    "        if x not in dic:\n",
    "            dic[x] = 1\n",
    "        else:\n",
    "            dic[x] = dic[x] + 1\n",
    "    line = fp.readline()\n",
    "    \n",
    "fp.close()\n",
    "\n",
    "num = []\n",
    "for key in dic:\n",
    "    num.append(dic[key])\n",
    "    \n",
    "    \n",
    "print(len(num))\n",
    "num.sort()\n",
    "num.reverse()\n",
    "\n",
    "plt.loglog(range(len(num)),num)\n",
    "plt.xlabel(\"Rank of the word\")\n",
    "plt.ylabel(\"Number of the occurence\")\n",
    "plt.title(\"Zipf's law\")\n",
    "    \n",
    "\n",
    "#fitting\n",
    "\n",
    "from scipy import optimize\n",
    "\n",
    "def test_func(x, amp, alpha) :\n",
    "    return amp*x**alpha\n",
    "\n",
    "kx = np.linspace(1,len(num),len(num))\n",
    "params, params_covariance = optimize.curve_fit(test_func,kx, num)\n",
    "print(params, params_covariance)\n",
    "#plt.hist(money,bins)\n",
    "plt.plot(kx, test_func(kx, params[0],params[1]), 'r*',label='Fitted function')\n",
    "\n",
    "\n",
    "plt.show()"
   ]
  },
  {
   "cell_type": "code",
   "execution_count": 40,
   "metadata": {},
   "outputs": [
    {
     "ename": "SyntaxError",
     "evalue": "invalid syntax (<ipython-input-40-b2cfc188c54d>, line 2)",
     "output_type": "error",
     "traceback": [
      "\u001b[1;36m  File \u001b[1;32m\"<ipython-input-40-b2cfc188c54d>\"\u001b[1;36m, line \u001b[1;32m2\u001b[0m\n\u001b[1;33m    help optimize\u001b[0m\n\u001b[1;37m                ^\u001b[0m\n\u001b[1;31mSyntaxError\u001b[0m\u001b[1;31m:\u001b[0m invalid syntax\n"
     ]
    }
   ],
   "source": [
    "from scipy import optimize\n",
    "help optimize"
   ]
  },
  {
   "cell_type": "code",
   "execution_count": null,
   "metadata": {},
   "outputs": [],
   "source": []
  },
  {
   "cell_type": "code",
   "execution_count": null,
   "metadata": {},
   "outputs": [],
   "source": []
  },
  {
   "cell_type": "code",
   "execution_count": null,
   "metadata": {},
   "outputs": [],
   "source": []
  }
 ],
 "metadata": {
  "kernelspec": {
   "display_name": "Python 3",
   "language": "python",
   "name": "python3"
  },
  "language_info": {
   "codemirror_mode": {
    "name": "ipython",
    "version": 3
   },
   "file_extension": ".py",
   "mimetype": "text/x-python",
   "name": "python",
   "nbconvert_exporter": "python",
   "pygments_lexer": "ipython3",
   "version": "3.7.1"
  }
 },
 "nbformat": 4,
 "nbformat_minor": 2
}
